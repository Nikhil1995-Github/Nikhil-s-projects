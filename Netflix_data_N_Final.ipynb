{
 "cells": [
  {
   "cell_type": "code",
   "execution_count": 118,
   "metadata": {},
   "outputs": [],
   "source": [
    "import pandas as pd\n",
    "import numpy as np\n",
    "import matplotlib.pyplot as plt\n"
   ]
  },
  {
   "cell_type": "code",
   "execution_count": 119,
   "metadata": {},
   "outputs": [],
   "source": [
    "import scipy.stats as stats"
   ]
  },
  {
   "cell_type": "code",
   "execution_count": 120,
   "metadata": {},
   "outputs": [],
   "source": [
    "from pandas.plotting import scatter_matrix"
   ]
  },
  {
   "cell_type": "code",
   "execution_count": 121,
   "metadata": {},
   "outputs": [],
   "source": [
    "import glob\n",
    "files=[]\n",
    "\n",
    "for filename in glob.glob(\"C:/Users/nikhi/OneDrive/Documents/MSIM SEM 2/Applied Data Science/Project Netflix/download/training_set/*.txt\"):\n",
    "    files.append(filename)"
   ]
  },
  {
   "cell_type": "code",
   "execution_count": 102,
   "metadata": {},
   "outputs": [
    {
     "name": "stdout",
     "output_type": "stream",
     "text": [
      "['mv_0000001.txt', 'mv_0000002.txt', 'mv_0000003.txt', 'mv_0000004.txt', 'mv_0000005.txt', 'mv_0000006.txt', 'mv_0000007.txt', 'mv_0000008.txt', 'mv_0000009.txt', 'mv_0000010.txt', 'mv_0000011.txt', 'mv_0000012.txt', 'mv_0000013.txt', 'mv_0000014.txt', 'mv_0000015.txt', 'mv_0000016.txt', 'mv_0000017.txt', 'mv_0000018.txt', 'mv_0000019.txt', 'mv_0000020.txt', 'mv_0000021.txt', 'mv_0000022.txt', 'mv_0000023.txt', 'mv_0000024.txt', 'mv_0000025.txt', 'mv_0000026.txt', 'mv_0000027.txt', 'mv_0000028.txt', 'mv_0000029.txt', 'mv_0000030.txt', 'mv_0000031.txt', 'mv_0000032.txt', 'mv_0000033.txt', 'mv_0000034.txt', 'mv_0000035.txt', 'mv_0000036.txt', 'mv_0000037.txt', 'mv_0000038.txt', 'mv_0000039.txt', 'mv_0000040.txt', 'mv_0000041.txt', 'mv_0000042.txt', 'mv_0000043.txt', 'mv_0000044.txt', 'mv_0000045.txt', 'mv_0000046.txt', 'mv_0000047.txt', 'mv_0000048.txt', 'mv_0000049.txt', 'mv_0000050.txt', 'mv_0000051.txt', 'mv_0000052.txt', 'mv_0000053.txt', 'mv_0000054.txt', 'mv_0000055.txt', 'mv_0000056.txt', 'mv_0000057.txt', 'mv_0000058.txt', 'mv_0000059.txt', 'mv_0000060.txt', 'mv_0000061.txt', 'mv_0000062.txt', 'mv_0000063.txt', 'mv_0000064.txt', 'mv_0000065.txt', 'mv_0000066.txt', 'mv_0000067.txt', 'mv_0000068.txt', 'mv_0000069.txt', 'mv_0000070.txt', 'mv_0000071.txt', 'mv_0000072.txt', 'mv_0000073.txt', 'mv_0000074.txt', 'mv_0000075.txt', 'mv_0000076.txt', 'mv_0000077.txt', 'mv_0000078.txt', 'mv_0000079.txt', 'mv_0000080.txt', 'mv_0000081.txt', 'mv_0000082.txt', 'mv_0000083.txt', 'mv_0000084.txt', 'mv_0000085.txt', 'mv_0000086.txt', 'mv_0000087.txt', 'mv_0000088.txt', 'mv_0000089.txt', 'mv_0000090.txt', 'mv_0000091.txt', 'mv_0000092.txt', 'mv_0000093.txt', 'mv_0000094.txt', 'mv_0000095.txt', 'mv_0000096.txt', 'mv_0000097.txt', 'mv_0000098.txt', 'mv_0000099.txt', 'mv_0000100.txt']\n"
     ]
    }
   ],
   "source": [
    "filenames=[]\n",
    "for i in range(0,100,1):\n",
    "    l=files[i].split(\"\\\\\")\n",
    "    filenames.append(l[-1])\n",
    "print(filenames)\n"
   ]
  },
  {
   "cell_type": "code",
   "execution_count": 138,
   "metadata": {},
   "outputs": [],
   "source": [
    "all_data=pd.DataFrame([])\n",
    "files=filenames\n",
    "x=0\n",
    "#columns=['Cust_Id', 'Rating','Date']\n",
    "#dfObj = pd.DataFrame(columns=['User_ID', 'UserName', 'Action'])\n",
    "for i in files:\n",
    "    x=x+1\n",
    "    if x>3:#if command for selection of amount of movies\n",
    "        break\n",
    "    df = pd.read_csv(\"C:/Users/nikhi/OneDrive/Documents/MSIM SEM 2/Applied Data Science/Project Netflix/download/training_set/\"+i, skiprows=1, header = None)\n",
    "   # df['movie_id']=\n",
    "    df['movie_id']=1+files.index(i)\n",
    "    all_data=all_data.append(df)\n",
    "\n",
    "   "
   ]
  },
  {
   "cell_type": "code",
   "execution_count": 139,
   "metadata": {},
   "outputs": [
    {
     "data": {
      "text/html": [
       "<div>\n",
       "<style scoped>\n",
       "    .dataframe tbody tr th:only-of-type {\n",
       "        vertical-align: middle;\n",
       "    }\n",
       "\n",
       "    .dataframe tbody tr th {\n",
       "        vertical-align: top;\n",
       "    }\n",
       "\n",
       "    .dataframe thead th {\n",
       "        text-align: right;\n",
       "    }\n",
       "</style>\n",
       "<table border=\"1\" class=\"dataframe\">\n",
       "  <thead>\n",
       "    <tr style=\"text-align: right;\">\n",
       "      <th></th>\n",
       "      <th>Cust_Id</th>\n",
       "      <th>Rating</th>\n",
       "      <th>Date</th>\n",
       "      <th>movie_id</th>\n",
       "    </tr>\n",
       "  </thead>\n",
       "  <tbody>\n",
       "    <tr>\n",
       "      <td>0</td>\n",
       "      <td>30878</td>\n",
       "      <td>4</td>\n",
       "      <td>2005-12-26</td>\n",
       "      <td>1</td>\n",
       "    </tr>\n",
       "    <tr>\n",
       "      <td>1</td>\n",
       "      <td>823519</td>\n",
       "      <td>3</td>\n",
       "      <td>2004-05-03</td>\n",
       "      <td>1</td>\n",
       "    </tr>\n",
       "    <tr>\n",
       "      <td>2</td>\n",
       "      <td>893988</td>\n",
       "      <td>3</td>\n",
       "      <td>2005-11-17</td>\n",
       "      <td>1</td>\n",
       "    </tr>\n",
       "    <tr>\n",
       "      <td>3</td>\n",
       "      <td>124105</td>\n",
       "      <td>4</td>\n",
       "      <td>2004-08-05</td>\n",
       "      <td>1</td>\n",
       "    </tr>\n",
       "    <tr>\n",
       "      <td>4</td>\n",
       "      <td>1248029</td>\n",
       "      <td>3</td>\n",
       "      <td>2004-04-22</td>\n",
       "      <td>1</td>\n",
       "    </tr>\n",
       "    <tr>\n",
       "      <td>...</td>\n",
       "      <td>...</td>\n",
       "      <td>...</td>\n",
       "      <td>...</td>\n",
       "      <td>...</td>\n",
       "    </tr>\n",
       "    <tr>\n",
       "      <td>1307</td>\n",
       "      <td>1321550</td>\n",
       "      <td>1</td>\n",
       "      <td>2003-09-10</td>\n",
       "      <td>3</td>\n",
       "    </tr>\n",
       "    <tr>\n",
       "      <td>1308</td>\n",
       "      <td>305344</td>\n",
       "      <td>2</td>\n",
       "      <td>2003-03-23</td>\n",
       "      <td>3</td>\n",
       "    </tr>\n",
       "    <tr>\n",
       "      <td>1309</td>\n",
       "      <td>2334574</td>\n",
       "      <td>1</td>\n",
       "      <td>2003-04-08</td>\n",
       "      <td>3</td>\n",
       "    </tr>\n",
       "    <tr>\n",
       "      <td>1310</td>\n",
       "      <td>964421</td>\n",
       "      <td>3</td>\n",
       "      <td>2003-05-16</td>\n",
       "      <td>3</td>\n",
       "    </tr>\n",
       "    <tr>\n",
       "      <td>1311</td>\n",
       "      <td>560851</td>\n",
       "      <td>4</td>\n",
       "      <td>2004-08-03</td>\n",
       "      <td>3</td>\n",
       "    </tr>\n",
       "  </tbody>\n",
       "</table>\n",
       "<p>2000 rows × 4 columns</p>\n",
       "</div>"
      ],
      "text/plain": [
       "      Cust_Id  Rating        Date  movie_id\n",
       "0       30878       4  2005-12-26         1\n",
       "1      823519       3  2004-05-03         1\n",
       "2      893988       3  2005-11-17         1\n",
       "3      124105       4  2004-08-05         1\n",
       "4     1248029       3  2004-04-22         1\n",
       "...       ...     ...         ...       ...\n",
       "1307  1321550       1  2003-09-10         3\n",
       "1308   305344       2  2003-03-23         3\n",
       "1309  2334574       1  2003-04-08         3\n",
       "1310   964421       3  2003-05-16         3\n",
       "1311   560851       4  2004-08-03         3\n",
       "\n",
       "[2000 rows x 4 columns]"
      ]
     },
     "execution_count": 139,
     "metadata": {},
     "output_type": "execute_result"
    }
   ],
   "source": [
    "all_data=all_data.rename(columns={0:'Cust_Id', 1:'Rating',2:'Date'}) \n",
    "all_data.head(2000)\n",
    "#print data, columns named for Cust_Id and Date"
   ]
  },
  {
   "cell_type": "code",
   "execution_count": 155,
   "metadata": {},
   "outputs": [],
   "source": [
    "#date_object = datetime.strptime(date_str, '%Y-%m-%d').date()\n",
    "all_data['Date'] = pd.to_datetime(all_data['Date'])\n",
    "#Converted string to datetime \n"
   ]
  },
  {
   "cell_type": "code",
   "execution_count": 141,
   "metadata": {},
   "outputs": [
    {
     "data": {
      "text/html": [
       "<div>\n",
       "<style scoped>\n",
       "    .dataframe tbody tr th:only-of-type {\n",
       "        vertical-align: middle;\n",
       "    }\n",
       "\n",
       "    .dataframe tbody tr th {\n",
       "        vertical-align: top;\n",
       "    }\n",
       "\n",
       "    .dataframe thead th {\n",
       "        text-align: right;\n",
       "    }\n",
       "</style>\n",
       "<table border=\"1\" class=\"dataframe\">\n",
       "  <thead>\n",
       "    <tr style=\"text-align: right;\">\n",
       "      <th></th>\n",
       "      <th>Cust_Id</th>\n",
       "      <th>Rating</th>\n",
       "      <th>Date</th>\n",
       "      <th>movie_id</th>\n",
       "      <th>month</th>\n",
       "    </tr>\n",
       "  </thead>\n",
       "  <tbody>\n",
       "    <tr>\n",
       "      <td>0</td>\n",
       "      <td>30878</td>\n",
       "      <td>4</td>\n",
       "      <td>2005-12-26</td>\n",
       "      <td>1</td>\n",
       "      <td>12</td>\n",
       "    </tr>\n",
       "    <tr>\n",
       "      <td>1</td>\n",
       "      <td>823519</td>\n",
       "      <td>3</td>\n",
       "      <td>2004-05-03</td>\n",
       "      <td>1</td>\n",
       "      <td>5</td>\n",
       "    </tr>\n",
       "    <tr>\n",
       "      <td>2</td>\n",
       "      <td>893988</td>\n",
       "      <td>3</td>\n",
       "      <td>2005-11-17</td>\n",
       "      <td>1</td>\n",
       "      <td>11</td>\n",
       "    </tr>\n",
       "    <tr>\n",
       "      <td>3</td>\n",
       "      <td>124105</td>\n",
       "      <td>4</td>\n",
       "      <td>2004-08-05</td>\n",
       "      <td>1</td>\n",
       "      <td>8</td>\n",
       "    </tr>\n",
       "    <tr>\n",
       "      <td>4</td>\n",
       "      <td>1248029</td>\n",
       "      <td>3</td>\n",
       "      <td>2004-04-22</td>\n",
       "      <td>1</td>\n",
       "      <td>4</td>\n",
       "    </tr>\n",
       "    <tr>\n",
       "      <td>5</td>\n",
       "      <td>1842128</td>\n",
       "      <td>4</td>\n",
       "      <td>2004-05-09</td>\n",
       "      <td>1</td>\n",
       "      <td>5</td>\n",
       "    </tr>\n",
       "    <tr>\n",
       "      <td>6</td>\n",
       "      <td>2238063</td>\n",
       "      <td>3</td>\n",
       "      <td>2005-05-11</td>\n",
       "      <td>1</td>\n",
       "      <td>5</td>\n",
       "    </tr>\n",
       "    <tr>\n",
       "      <td>7</td>\n",
       "      <td>1503895</td>\n",
       "      <td>4</td>\n",
       "      <td>2005-05-19</td>\n",
       "      <td>1</td>\n",
       "      <td>5</td>\n",
       "    </tr>\n",
       "    <tr>\n",
       "      <td>8</td>\n",
       "      <td>2207774</td>\n",
       "      <td>5</td>\n",
       "      <td>2005-06-06</td>\n",
       "      <td>1</td>\n",
       "      <td>6</td>\n",
       "    </tr>\n",
       "    <tr>\n",
       "      <td>9</td>\n",
       "      <td>2590061</td>\n",
       "      <td>3</td>\n",
       "      <td>2004-08-12</td>\n",
       "      <td>1</td>\n",
       "      <td>8</td>\n",
       "    </tr>\n",
       "  </tbody>\n",
       "</table>\n",
       "</div>"
      ],
      "text/plain": [
       "   Cust_Id  Rating       Date  movie_id  month\n",
       "0    30878       4 2005-12-26         1     12\n",
       "1   823519       3 2004-05-03         1      5\n",
       "2   893988       3 2005-11-17         1     11\n",
       "3   124105       4 2004-08-05         1      8\n",
       "4  1248029       3 2004-04-22         1      4\n",
       "5  1842128       4 2004-05-09         1      5\n",
       "6  2238063       3 2005-05-11         1      5\n",
       "7  1503895       4 2005-05-19         1      5\n",
       "8  2207774       5 2005-06-06         1      6\n",
       "9  2590061       3 2004-08-12         1      8"
      ]
     },
     "execution_count": 141,
     "metadata": {},
     "output_type": "execute_result"
    }
   ],
   "source": [
    "import datetime\n",
    "all_data['month']=0\n",
    "all_data['month']=all_data['Date'].dt.month\n",
    "#all_data.head(10)\n",
    "all_data.sort_values(by=['month'])\n",
    "all_data.head(10)"
   ]
  },
  {
   "cell_type": "code",
   "execution_count": 142,
   "metadata": {},
   "outputs": [
    {
     "data": {
      "text/html": [
       "<div>\n",
       "<style scoped>\n",
       "    .dataframe tbody tr th:only-of-type {\n",
       "        vertical-align: middle;\n",
       "    }\n",
       "\n",
       "    .dataframe tbody tr th {\n",
       "        vertical-align: top;\n",
       "    }\n",
       "\n",
       "    .dataframe thead th {\n",
       "        text-align: right;\n",
       "    }\n",
       "</style>\n",
       "<table border=\"1\" class=\"dataframe\">\n",
       "  <thead>\n",
       "    <tr style=\"text-align: right;\">\n",
       "      <th></th>\n",
       "      <th>Cust_Id</th>\n",
       "      <th>Rating</th>\n",
       "      <th>Date</th>\n",
       "      <th>movie_id</th>\n",
       "      <th>month</th>\n",
       "    </tr>\n",
       "  </thead>\n",
       "  <tbody>\n",
       "    <tr>\n",
       "      <td>1210</td>\n",
       "      <td>789014</td>\n",
       "      <td>1</td>\n",
       "      <td>2003-02-11</td>\n",
       "      <td>3</td>\n",
       "      <td>2</td>\n",
       "    </tr>\n",
       "    <tr>\n",
       "      <td>1816</td>\n",
       "      <td>1639792</td>\n",
       "      <td>1</td>\n",
       "      <td>2003-02-12</td>\n",
       "      <td>3</td>\n",
       "      <td>2</td>\n",
       "    </tr>\n",
       "    <tr>\n",
       "      <td>1765</td>\n",
       "      <td>575714</td>\n",
       "      <td>3</td>\n",
       "      <td>2003-02-12</td>\n",
       "      <td>3</td>\n",
       "      <td>2</td>\n",
       "    </tr>\n",
       "    <tr>\n",
       "      <td>394</td>\n",
       "      <td>2439493</td>\n",
       "      <td>1</td>\n",
       "      <td>2003-02-12</td>\n",
       "      <td>3</td>\n",
       "      <td>2</td>\n",
       "    </tr>\n",
       "    <tr>\n",
       "      <td>60</td>\n",
       "      <td>1977959</td>\n",
       "      <td>4</td>\n",
       "      <td>2003-02-12</td>\n",
       "      <td>3</td>\n",
       "      <td>2</td>\n",
       "    </tr>\n",
       "    <tr>\n",
       "      <td>...</td>\n",
       "      <td>...</td>\n",
       "      <td>...</td>\n",
       "      <td>...</td>\n",
       "      <td>...</td>\n",
       "      <td>...</td>\n",
       "    </tr>\n",
       "    <tr>\n",
       "      <td>0</td>\n",
       "      <td>30878</td>\n",
       "      <td>4</td>\n",
       "      <td>2005-12-26</td>\n",
       "      <td>1</td>\n",
       "      <td>12</td>\n",
       "    </tr>\n",
       "    <tr>\n",
       "      <td>1787</td>\n",
       "      <td>1037245</td>\n",
       "      <td>3</td>\n",
       "      <td>2005-12-27</td>\n",
       "      <td>3</td>\n",
       "      <td>12</td>\n",
       "    </tr>\n",
       "    <tr>\n",
       "      <td>183</td>\n",
       "      <td>14756</td>\n",
       "      <td>4</td>\n",
       "      <td>2005-12-27</td>\n",
       "      <td>1</td>\n",
       "      <td>12</td>\n",
       "    </tr>\n",
       "    <tr>\n",
       "      <td>44</td>\n",
       "      <td>2647871</td>\n",
       "      <td>4</td>\n",
       "      <td>2005-12-30</td>\n",
       "      <td>1</td>\n",
       "      <td>12</td>\n",
       "    </tr>\n",
       "    <tr>\n",
       "      <td>112</td>\n",
       "      <td>2229289</td>\n",
       "      <td>4</td>\n",
       "      <td>2005-12-30</td>\n",
       "      <td>3</td>\n",
       "      <td>12</td>\n",
       "    </tr>\n",
       "  </tbody>\n",
       "</table>\n",
       "<p>2699 rows × 5 columns</p>\n",
       "</div>"
      ],
      "text/plain": [
       "      Cust_Id  Rating       Date  movie_id  month\n",
       "1210   789014       1 2003-02-11         3      2\n",
       "1816  1639792       1 2003-02-12         3      2\n",
       "1765   575714       3 2003-02-12         3      2\n",
       "394   2439493       1 2003-02-12         3      2\n",
       "60    1977959       4 2003-02-12         3      2\n",
       "...       ...     ...        ...       ...    ...\n",
       "0       30878       4 2005-12-26         1     12\n",
       "1787  1037245       3 2005-12-27         3     12\n",
       "183     14756       4 2005-12-27         1     12\n",
       "44    2647871       4 2005-12-30         1     12\n",
       "112   2229289       4 2005-12-30         3     12\n",
       "\n",
       "[2699 rows x 5 columns]"
      ]
     },
     "execution_count": 142,
     "metadata": {},
     "output_type": "execute_result"
    }
   ],
   "source": [
    "all_data.sort_values(by=['Date'])"
   ]
  },
  {
   "cell_type": "code",
   "execution_count": 156,
   "metadata": {},
   "outputs": [
    {
     "name": "stdout",
     "output_type": "stream",
     "text": [
      "month\n",
      "1     3.726708\n",
      "2     3.600000\n",
      "3     3.650407\n",
      "4     3.725100\n",
      "5     3.694118\n",
      "6     3.613027\n",
      "7     3.613546\n",
      "8     3.528571\n",
      "9     3.756637\n",
      "10    3.748815\n",
      "11    3.670157\n",
      "12    3.609589\n",
      "Name: Rating, dtype: float64\n"
     ]
    },
    {
     "data": {
      "text/plain": [
       "Text(0, 0.5, 'Mean rating')"
      ]
     },
     "execution_count": 156,
     "metadata": {},
     "output_type": "execute_result"
    },
    {
     "data": {
      "image/png": "[encoded data removed]",
      "text/plain": [
       "<Figure size 432x288 with 1 Axes>"
      ]
     },
     "metadata": {},
     "output_type": "display_data"
    }
   ],
   "source": [
    "t=pd.DataFrame([])\n",
    "t['me']=all_data.groupby('month')['Rating'].mean()\n",
    "print(all_data.groupby('month')['Rating'].mean())\n",
    "#print(t['me'])\n",
    "plt.bar([1,2,3,4,5,6,7,8,9,10,11,12],t['me'])\n",
    "plt.ylim(3,4)\n",
    "plt.xlabel('months',size = 20)\n",
    "plt.ylabel('Mean rating',size = 20)\n",
    "#Created a new data frame and found out mean of movie ratings for each month"
   ]
  },
  {
   "cell_type": "code",
   "execution_count": 158,
   "metadata": {},
   "outputs": [
    {
     "name": "stdout",
     "output_type": "stream",
     "text": [
      "3.6580214894405336\n"
     ]
    }
   ],
   "source": [
    "mu=all_data['Rating'].mean()#Mean of total ratings for gaussian\n",
    "print(mu)"
   ]
  },
  {
   "cell_type": "code",
   "execution_count": 159,
   "metadata": {},
   "outputs": [],
   "source": [
    "sigma=np.std(t)#Standard Deviation"
   ]
  },
  {
   "cell_type": "code",
   "execution_count": 160,
   "metadata": {},
   "outputs": [
    {
     "name": "stdout",
     "output_type": "stream",
     "text": [
      "3.5285714285714285\n",
      "3.756637168141593\n"
     ]
    }
   ],
   "source": [
    "x1=min(t['me'])\n",
    "print(x1)\n",
    "x2=max(t['me'])\n",
    "print(x2)\n",
    "#Lower and Upper bounds"
   ]
  },
  {
   "cell_type": "code",
   "execution_count": 170,
   "metadata": {
    "scrolled": true
   },
   "outputs": [
    {
     "data": {
      "image/png": "[encoded data removed]",
      "text/plain": [
       "<Figure size 432x288 with 1 Axes>"
      ]
     },
     "metadata": {},
     "output_type": "display_data"
    }
   ],
   "source": [
    "x = np.linspace(mu - 3*sigma, mu + 3*sigma, 100)\n",
    "plt.plot(x, stats.norm.pdf(x, mu, sigma))\n",
    "#plt.plot(t['me'],stats.norm.pdf(x, mu, sigma),'bo')for gaussian curve\n",
    "plt.xlabel (\"Mean Ratings\")\n",
    "plt.yticks([])\n",
    "plt.xticks([3.4,3.5,3.6,3.7,3.8,3.9])\n",
    "plt.show()\n"
   ]
  },
  {
   "cell_type": "code",
   "execution_count": 172,
   "metadata": {},
   "outputs": [
    {
     "data": {
      "text/plain": [
       "Text(0, 0.5, 'Mean Ratings')"
      ]
     },
     "execution_count": 172,
     "metadata": {},
     "output_type": "execute_result"
    },
    {
     "data": {
      "image/png": "[encoded data removed]",
      "text/plain": [
       "<Figure size 432x288 with 1 Axes>"
      ]
     },
     "metadata": {},
     "output_type": "display_data"
    }
   ],
   "source": [
    "plt.plot([1,2,3,4,5,6,7,8,9,10,11,12],t['me'])\n",
    "plt.xlabel (\"Months\")\n",
    "plt.ylabel (\"Mean Ratings\")\n",
    "#plotted mean ratings over different months"
   ]
  }
 ],
 "metadata": {
  "kernelspec": {
   "display_name": "Python 3",
   "language": "python",
   "name": "python3"
  },
  "language_info": {
   "codemirror_mode": {
    "name": "ipython",
    "version": 3
   },
   "file_extension": ".py",
   "mimetype": "text/x-python",
   "name": "python",
   "nbconvert_exporter": "python",
   "pygments_lexer": "ipython3",
   "version": "3.7.4"
  }
 },
 "nbformat": 4,
 "nbformat_minor": 2
}
